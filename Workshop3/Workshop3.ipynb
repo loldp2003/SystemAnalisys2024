{
  "nbformat": 4,
  "nbformat_minor": 0,
  "metadata": {
    "colab": {
      "provenance": []
    },
    "kernelspec": {
      "name": "python3",
      "display_name": "Python 3"
    },
    "language_info": {
      "name": "python"
    }
  },
  "cells": [
    {
      "cell_type": "markdown",
      "source": [
        "#Workshop 3\n",
        "\n",
        "##Workshop definition:\n",
        "\n",
        "As you are becoming an expert on understand systems, it is the time to create an expert system.\n",
        "\n",
        "Also, as you shoud know, you professor love movies a lot. So, you want to help him to choose next movies to watch. In this sense, you will take information for next movies from a popular website called IMDb where there is different information about movies and opinions.\n",
        "\n",
        "However, you do not want to spend money to get movies information using a webAPI. But, as you are a good computer engineer, you know there is a technique called web scrapping, and you could get information using HTML from an website, and put this information into a DataFrame just to make easier data processing.\n",
        "\n",
        "In this case, you are gonna use request package to get HTML code from IMDb site, beautiful soup package to make web scrapping, and pandas to have a dataframe to handle data."
      ],
      "metadata": {
        "id": "p06WQgetSoOO"
      }
    },
    {
      "cell_type": "code",
      "source": [
        "# neccesary libraries\n",
        "!pip install requests\n",
        "!pip install beautifulsoup4\n",
        "!pip install pandas"
      ],
      "metadata": {
        "id": "JbGph8GPVVCE",
        "colab": {
          "base_uri": "https://localhost:8080/"
        },
        "outputId": "db3ec0fb-7a7d-43f7-96f1-cea34b3e2e8b"
      },
      "execution_count": null,
      "outputs": [
        {
          "output_type": "stream",
          "name": "stdout",
          "text": [
            "Requirement already satisfied: requests in /usr/local/lib/python3.10/dist-packages (2.31.0)\n",
            "Requirement already satisfied: charset-normalizer<4,>=2 in /usr/local/lib/python3.10/dist-packages (from requests) (3.3.2)\n",
            "Requirement already satisfied: idna<4,>=2.5 in /usr/local/lib/python3.10/dist-packages (from requests) (3.7)\n",
            "Requirement already satisfied: urllib3<3,>=1.21.1 in /usr/local/lib/python3.10/dist-packages (from requests) (2.0.7)\n",
            "Requirement already satisfied: certifi>=2017.4.17 in /usr/local/lib/python3.10/dist-packages (from requests) (2024.2.2)\n",
            "\u001b[33mWARNING: Running pip as the 'root' user can result in broken permissions and conflicting behaviour with the system package manager. It is recommended to use a virtual environment instead: https://pip.pypa.io/warnings/venv\u001b[0m\u001b[33m\n",
            "\u001b[0mRequirement already satisfied: beautifulsoup4 in /usr/local/lib/python3.10/dist-packages (4.12.3)\n",
            "Requirement already satisfied: soupsieve>1.2 in /usr/local/lib/python3.10/dist-packages (from beautifulsoup4) (2.5)\n",
            "\u001b[33mWARNING: Running pip as the 'root' user can result in broken permissions and conflicting behaviour with the system package manager. It is recommended to use a virtual environment instead: https://pip.pypa.io/warnings/venv\u001b[0m\u001b[33m\n",
            "\u001b[0mRequirement already satisfied: pandas in /usr/local/lib/python3.10/dist-packages (2.0.3)\n",
            "Requirement already satisfied: python-dateutil>=2.8.2 in /usr/local/lib/python3.10/dist-packages (from pandas) (2.8.2)\n",
            "Requirement already satisfied: pytz>=2020.1 in /usr/local/lib/python3.10/dist-packages (from pandas) (2023.4)\n",
            "Requirement already satisfied: tzdata>=2022.1 in /usr/local/lib/python3.10/dist-packages (from pandas) (2024.1)\n",
            "Requirement already satisfied: numpy>=1.21.0 in /usr/local/lib/python3.10/dist-packages (from pandas) (1.25.2)\n",
            "Requirement already satisfied: six>=1.5 in /usr/local/lib/python3.10/dist-packages (from python-dateutil>=2.8.2->pandas) (1.16.0)\n",
            "\u001b[33mWARNING: Running pip as the 'root' user can result in broken permissions and conflicting behaviour with the system package manager. It is recommended to use a virtual environment instead: https://pip.pypa.io/warnings/venv\u001b[0m\u001b[33m\n",
            "\u001b[0m"
          ]
        }
      ]
    },
    {
      "cell_type": "markdown",
      "source": [
        "#1. Get Movies Data\n",
        "In the link IMDb Upcoming Relases there are next movies with some related data as genre or star actors. So, using html tags, you could take information and save it into python variables. At the end, here you want to have a DataFrame with movies information."
      ],
      "metadata": {
        "id": "5KgjoA5lZ5lg"
      }
    },
    {
      "cell_type": "code",
      "source": [
        "# import libraries\n",
        "import requests\n",
        "from bs4 import BeautifulSoup\n",
        "\n",
        "def get_web_html(url: str) -> BeautifulSoup:\n",
        "    \"\"\"\n",
        "    This method gets the HTML from a website using scrapping.\n",
        "\n",
        "    Args:\n",
        "        url: URL to scrape.\n",
        "\n",
        "    Returns:\n",
        "        A BeautifulSoup object with the HTML.\n",
        "    \"\"\"\n",
        "    # headers to avoid 403 error, cos' IMDb blocks requests from bots\n",
        "    headers = {\n",
        "        \"User-Agent\": \"Mozilla/5.0 (Windows NT 10.0; Win64; x64) AppleWebKit/537.36 (KHTML, like Gecko) Chrome/58.0.3029.110 Safari/537.3\"\n",
        "    }\n",
        "\n",
        "    # get HTML and save it in a variable\n",
        "    response = requests.get(url, headers=headers)\n",
        "    return BeautifulSoup(response.text, \"html.parser\")"
      ],
      "metadata": {
        "id": "pv2n1idabZOF"
      },
      "execution_count": null,
      "outputs": []
    },
    {
      "cell_type": "code",
      "source": [
        "# import libraries\n",
        "from bs4 import BeautifulSoup\n",
        "\n",
        "\n",
        "def get_title_year(movie_data: BeautifulSoup) -> tuple:\n",
        "    \"\"\"\n",
        "    This methog gets the title, year, and link of a movie data using scrapping.\n",
        "\n",
        "    Args:\n",
        "        movie_data: BeautifulSoup object with movie data.\n",
        "\n",
        "    Returns:\n",
        "        A tuple with title, year, and link.\n",
        "    \"\"\"\n",
        "    # process main title of subdivission\n",
        "    base_url = \"https://www.imdb.com\"\n",
        "    ref_data = movie_data.find(\"a\")\n",
        "    title = ref_data.text.split(\"(\")[0].strip()\n",
        "    year = ref_data.text.split(\"(\")[1].replace(\")\", \"\")\n",
        "    link = base_url + ref_data[\"href\"]\n",
        "    return title, year, link\n",
        "\n",
        "\n",
        "def get_genre_actors(movie_data: BeautifulSoup) -> list:\n",
        "    \"\"\"\n",
        "    This method gets genre and actors from a movie data using scrapping.\n",
        "\n",
        "    Args:\n",
        "        movie_data: BeautifulSoup object with movie data.\n",
        "\n",
        "    Returns:\n",
        "        A list with genre and actors.\n",
        "    \"\"\"\n",
        "    # process ul tags to get genre and actors\n",
        "    data = []\n",
        "    ul_tags = movie_data.find_all(\"ul\")\n",
        "    for ul_tag in ul_tags:\n",
        "        temp = []\n",
        "        for li_tag in ul_tag.find_all(\"li\"):\n",
        "            temp.append(li_tag.find(\"span\").get_text())\n",
        "        data.append(\", \".join(temp))\n",
        "    return data"
      ],
      "metadata": {
        "id": "JdbKcVDdbeWG"
      },
      "execution_count": null,
      "outputs": []
    },
    {
      "cell_type": "code",
      "source": [
        "# import libraries\n",
        "from bs4 import BeautifulSoup\n",
        "import pandas as pd\n",
        "\n",
        "\n",
        "def generate_dataframe(url: str) -> pd.DataFrame:\n",
        "    \"\"\"\n",
        "    This method generates a DataFrame with movie data from IMDb.\n",
        "\n",
        "    Args:\n",
        "        url: URL to scrape.\n",
        "\n",
        "    Returns:\n",
        "        A DataFrame with movie data.\n",
        "    \"\"\"\n",
        "    # movies datastructure definition\n",
        "    imdb = get_web_html(url)\n",
        "    movies = []\n",
        "    movies_metadata = [\"Title\", \"Year\", \"Genre\", \"Actors\"]\n",
        "\n",
        "    # process HTML using scrapping going to each division with the class ipc-metadata-list-summary-item__tc\n",
        "    movies_html = imdb.find_all(\"div\", class_=\"ipc-metadata-list-summary-item__tc\")\n",
        "    for movie in movies_html:\n",
        "        # get each movie data into a clean html structure\n",
        "        movie_data = BeautifulSoup(str(movie), \"html.parser\")\n",
        "\n",
        "        # get movie data\n",
        "        title, year, link = get_title_year(movie_data)\n",
        "        data = get_genre_actors(movie_data)\n",
        "\n",
        "        # create a dictionary to have a nice data movie structure\n",
        "        movie_clean_data = {\n",
        "            \"Title\": title,\n",
        "            \"Year\": year,\n",
        "            \"Genre\": data[0],\n",
        "            \"Actors\": data[1] if len(data) > 1 else \"\",\n",
        "        }\n",
        "        # create a list of dictionaries to create a DataFrame\n",
        "        movies.append(movie_clean_data)\n",
        "\n",
        "    # create movies dataframe\n",
        "    return pd.DataFrame(movies, columns=movies_metadata)\n",
        "\n",
        "# ================================ MAIN =================================== #\n",
        "# url to scrape\n",
        "url = \"https://www.imdb.com/calendar/?ref_=rlm&region=US&type=MOVIE\"\n",
        "movies_df = generate_dataframe(url)\n",
        "print(movies_df.size)"
      ],
      "metadata": {
        "colab": {
          "base_uri": "https://localhost:8080/"
        },
        "id": "hHFPc1UPiR-i",
        "outputId": "c718cbdc-a828-4c7a-b92b-a9f085d133e1"
      },
      "execution_count": 10,
      "outputs": [
        {
          "output_type": "stream",
          "name": "stdout",
          "text": [
            "720\n"
          ]
        }
      ]
    },
    {
      "cell_type": "markdown",
      "source": [
        "#2. Time to build a Decision Tree\n",
        "In order to create an expert system, you must define a decision tree. It means, a sequence of conditionals in order to get a result, it is like to build a flowchart composed for a lot of conditionals.\n",
        "\n",
        "In this part, you must to go to any site like draw.io and create a flowchart about how you think is the best decision process: what questions do you want to make?\n",
        "\n",
        "Remember, make the right questions is a pretty important step at any taks you want to do.\n",
        "\n",
        "As follows is the algorithm used in the expert system"
      ],
      "metadata": {
        "id": "47FoVTC06nZs"
      }
    },
    {
      "cell_type": "markdown",
      "source": [],
      "metadata": {
        "id": "EUPN-7_26vfD"
      }
    },
    {
      "cell_type": "markdown",
      "source": [
        "#2.1 Your proposal\n",
        "In this section you must write your system analysis, and justify the questions selection and order. Also, define system components, system sensibility, anything you consider important to solve this problem."
      ],
      "metadata": {
        "id": "lzQOc_rf4-FC"
      }
    },
    {
      "cell_type": "markdown",
      "source": [
        "Into this analisys that I've made about the database that we got directly from the webpage of IMB, I checked directly inside of the page the informaiton that the program were getting\n",
        "With this I noticed that normally the program generate a dataframes of movies of 720 movioes in total, all of them with the directly information of the full title of the movie in the spanish languaje, also it get the year of release and the common genres in where the movie have been clasified, added to this the dataframe get the information of all the principal actors, with this information I decided to order the questions to filtrate the program, these are the questions and the order that I'll be using onto my program\n",
        "1. Which movie gender do you want to see?\n",
        "This will help me in order to filtrate between the different movie genders that we have, reducing the amount of movies that the system can recommend, for example into the first try that I've made in order to filter the movies, I try to check the movies that have the \"Drama\" genre on them, this have reduced the amount of movies from 702 to 316, almost the half of the movies where filtrated for not having the selected genre on them"
      ],
      "metadata": {
        "id": "lINjYp1h60NU"
      }
    },
    {
      "cell_type": "code",
      "source": [
        "filtered_movies_genre = movies_df[movies_df['Genre'].str.contains('Drama', na=False)]\n",
        "print(filtered_movies_genre.size)"
      ],
      "metadata": {
        "colab": {
          "base_uri": "https://localhost:8080/"
        },
        "id": "ti4N5ppP9V5J",
        "outputId": "7f2ccf71-c420-4239-aa0d-b3f8ab49df9d"
      },
      "execution_count": 13,
      "outputs": [
        {
          "output_type": "stream",
          "name": "stdout",
          "text": [
            "316\n"
          ]
        }
      ]
    },
    {
      "cell_type": "markdown",
      "source": [
        "2.which release year do you want to see in your movie?  \n",
        "After I filtrate the amount of movies based on the genre, the best option that I got to continue filtering them were the year in where the movie were released, this because as we know the year of a movie can decide the amount of special efects that can be on it, the production that were made, or also even the plot of the movie, for example the movies of the \"Terror\" genre on the years previous of 2000 were made as slasher movies, while the released after that year, are more enfocated into Psychological suspense\n",
        "But when I were making the process of the code, I noticed that the program only have the option to get movies between 2023 and 2025, that's why I needed to make an conditional to check that the answer to the movie will be one of the available years (with my example of bellow this reduced the filter from 316 to 60 movies"
      ],
      "metadata": {
        "id": "5OZz5oRL-u8N"
      }
    },
    {
      "cell_type": "code",
      "source": [
        "filtered_movies_year = filtered_movies_genre[filtered_movies_genre['Year'].str.contains('2025', na=False)]\n",
        "print(filtered_movies_year.size)\n",
        "print(filtered_movies_year.head(10))"
      ],
      "metadata": {
        "colab": {
          "base_uri": "https://localhost:8080/"
        },
        "id": "HszKC-3S_yw1",
        "outputId": "073cb4fd-619e-467a-c15e-b7d7eddf34a3"
      },
      "execution_count": 23,
      "outputs": [
        {
          "output_type": "stream",
          "name": "stdout",
          "text": [
            "60\n",
            "                                              Title  Year  \\\n",
            "152                                       Mickey 17  2025   \n",
            "154                                   Game of Power  2025   \n",
            "156                Bridget Jones: Mad About the Boy  2025   \n",
            "158                         Verona's Romeo & Juliet  2025   \n",
            "159                             The Unbreakable Boy  2025   \n",
            "160  Untitled Ryan Coogler / Michael B. Jordan Film  2025   \n",
            "162                                      Snow White  2025   \n",
            "164                           The Woman in the Yard  2025   \n",
            "167                        Bonhoeffer: Holy Traitor  2025   \n",
            "168                             The Perfect Destiny  2025   \n",
            "\n",
            "                           Genre  \\\n",
            "152     Adventure, Drama, Sci-Fi   \n",
            "154        Crime, Drama, Mystery   \n",
            "156       Comedy, Drama, Romance   \n",
            "158      Drama, Musical, Romance   \n",
            "159                        Drama   \n",
            "160     Drama, Fantasy, Thriller   \n",
            "162     Adventure, Drama, Family   \n",
            "164      Drama, Horror, Thriller   \n",
            "167  Adventure, Biography, Drama   \n",
            "168       Drama, Family, Romance   \n",
            "\n",
            "                                                Actors  \n",
            "152  Robert Pattinson, Mark Ruffalo, Toni Collette,...  \n",
            "154  Tobin Bell, Bruce Davison, Evelyn Claire, John...  \n",
            "156  Renée Zellweger, Leo Woodall, Emma Thompson, H...  \n",
            "158  Rebel Wilson, Jason Isaacs, Rupert Everett, De...  \n",
            "159  Zachary Levi, Amy Acker, Patricia Heaton, Megh...  \n",
            "160  Hailee Steinfeld, Jack O'Connell, Michael B. J...  \n",
            "162  Rachel Zegler, Gal Gadot, Wendy H. Meier, Andr...  \n",
            "164  Russell Hornsby, Danielle Deadwyler, Okwui Okp...  \n",
            "167  Daniel Roebuck, Jeremy John Wells, Nathan Clar...  \n",
            "168  Eric Roberts, Costas Mandylor, Cassandra Scerb...  \n"
          ]
        }
      ]
    },
    {
      "cell_type": "markdown",
      "source": [
        "3. Do you have a prefered actor that you want to see into the movie?\n",
        " Which one?\n",
        "\n",
        "As I have already filtered the 3/4 part of the movies I want to reduce the amount to the minimal amount of movies possible, what I've done with the quesiton of the actor is found a selected parameter that will no completely repeated on the movies, something that will be specific just for a certainly amount of them, on my example I checked with the actor Robert Pattinson, and I reduced the amount of movies from 60 to 4"
      ],
      "metadata": {
        "id": "BT0zG-3hBTfW"
      }
    },
    {
      "cell_type": "code",
      "source": [
        "filtered_movies_actors = filtered_movies_year[filtered_movies_year['Actors'].str.contains('Robert Pattinson', na=False)]\n",
        "print(filtered_movies_actors.size)\n",
        "print(filtered_movies_actors.head(4))"
      ],
      "metadata": {
        "colab": {
          "base_uri": "https://localhost:8080/"
        },
        "id": "mPdCZTpMCcxm",
        "outputId": "a671d9a8-9d7a-4d62-8c59-e479eaf164cf"
      },
      "execution_count": 26,
      "outputs": [
        {
          "output_type": "stream",
          "name": "stdout",
          "text": [
            "         Title  Year                     Genre  \\\n",
            "152  Mickey 17  2025  Adventure, Drama, Sci-Fi   \n",
            "\n",
            "                                                Actors  \n",
            "152  Robert Pattinson, Mark Ruffalo, Toni Collette,...  \n"
          ]
        }
      ]
    },
    {
      "cell_type": "markdown",
      "source": [
        "#3. Put your expert system at work\n",
        "Now it is the time to write code in order to create your first and classical expert system. Here it is important to use conditionals, and based on conditionals apply filters in pandas dataframe."
      ],
      "metadata": {
        "id": "gd3MfEGzDJvH"
      }
    },
    {
      "cell_type": "code",
      "source": [
        "genre = input(\"Which movie gender do you want to see?(Action, Comedy, Drama, History. etc)\")\n",
        "print(f\"You have put: {genre}\")\n",
        "filtered_movies_genre = movies_df[movies_df['Genre'].str.contains(genre, na=False)]\n",
        "if filtered_movies_genre.size == 0:\n",
        "  print(\"No movies found\")\n",
        "else:\n",
        "  print(filtered_movies_genre.size)\n",
        "  print(filtered_movies_genre.head(5))\n",
        "\n",
        "year = input(\"which release year do you want to see in your movie?(2023, 2024, 2025)\")\n",
        "print(f\"You have put: {year}\")\n",
        "filtered_movies_year = filtered_movies_genre[filtered_movies_genre['Year'].str.contains(year, na=False)]\n",
        "if filtered_movies_year.size == 0:\n",
        "  print(\"No movies found\")\n",
        "\n",
        "else:\n",
        "  print(filtered_movies_year.size)\n",
        "  print(filtered_movies_year.head(5))\n",
        "\n",
        "actor = input(\"Do you have a prefered actor that you want to see into the movie?(Yes, No. etc)\")\n",
        "print(f\"You have put: {actor}\")\n",
        "filtered_movies_actors = filtered_movies_year[filtered_movies_year['Actors'].str.contains(actor, na=False)]\n",
        "if filtered_movies_actors.size == 0:\n",
        "  print(\"No movies found\")\n",
        "else:\n",
        "  print(\"\\n These are the recommended movies based on your decision for the genre, the year and the actor\")\n",
        "  print(filtered_movies_actors.head(5))\n",
        "\n",
        "\n",
        "\n"
      ],
      "metadata": {
        "colab": {
          "base_uri": "https://localhost:8080/"
        },
        "id": "GjX9yVxGDLR3",
        "outputId": "8d3e2f6e-34d3-406d-dc91-d61b2946ef27"
      },
      "execution_count": 37,
      "outputs": [
        {
          "output_type": "stream",
          "name": "stdout",
          "text": [
            "Which movie gender do you want to see?(Action, Comedy, Drama, History. etc)Drama\n",
            "You have put: Drama\n",
            "316\n",
            "                                         Title  Year  \\\n",
            "2                                        Sight  2023   \n",
            "3  Kidnapped: The Abduction of Edgardo Mortara  2023   \n",
            "7                          In a Violent Nature  2024   \n",
            "8                                         Ezra  2023   \n",
            "9                          The Dead Don't Hurt  2023   \n",
            "\n",
            "                       Genre  \\\n",
            "2  Biography, Drama, History   \n",
            "3             Drama, History   \n",
            "7    Drama, Horror, Thriller   \n",
            "8              Comedy, Drama   \n",
            "9             Drama, Western   \n",
            "\n",
            "                                              Actors  \n",
            "2  Terry Chen, Greg Kinnear, Natasha Mumba, Fionn...  \n",
            "3  Paolo Pierobon, Fausto Russo Alesi, Barbara Ro...  \n",
            "7  Ry Barrett, Andrea Pavlovic, Cameron Love, Ree...  \n",
            "8  Robert De Niro, Vera Farmiga, Tony Goldwyn, Ro...  \n",
            "9  Vicky Krieps, Viggo Mortensen, Solly McLeod, G...  \n",
            "which release year do you want to see in your movie?(2023, 2024, 2025)2024\n",
            "You have put: 2024\n",
            "192\n",
            "                            Title  Year                     Genre  \\\n",
            "7             In a Violent Nature  2024   Drama, Horror, Thriller   \n",
            "11                           1992  2024   Action, Drama, Thriller   \n",
            "12  Haikyuu!! The Dumpster Battle  2024  Animation, Comedy, Drama   \n",
            "22                       Treasure  2024             Comedy, Drama   \n",
            "25                     Ghostlight  2024             Comedy, Drama   \n",
            "\n",
            "                                               Actors  \n",
            "7   Ry Barrett, Andrea Pavlovic, Cameron Love, Ree...  \n",
            "11  Ray Liotta, Scott Eastwood, Tyrese Gibson, Dyl...  \n",
            "12  Ayumu Murase, Kaito Ishikawa, Yûki Kaji, Yûich...  \n",
            "22  Lena Dunham, Stephen Fry, Zbigniew Zamachowski...  \n",
            "25  Keith Kupferer, Katherine Mallen Kupferer, Tar...  \n",
            "Do you have a prefered actor that you want to see into the movie?(Yes, No. etc)Ray Liotta\n",
            "You have put: Ray Liotta\n",
            "\n",
            " These are the recommended movies based on your decision for the genre, the year and the actor\n",
            "   Title  Year                    Genre  \\\n",
            "11  1992  2024  Action, Drama, Thriller   \n",
            "\n",
            "                                               Actors  \n",
            "11  Ray Liotta, Scott Eastwood, Tyrese Gibson, Dyl...  \n"
          ]
        }
      ]
    }
  ]
}